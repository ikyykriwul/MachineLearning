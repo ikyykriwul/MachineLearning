{
  "nbformat": 4,
  "nbformat_minor": 0,
  "metadata": {
    "colab": {
      "provenance": []
    },
    "kernelspec": {
      "name": "python3",
      "display_name": "Python 3"
    },
    "language_info": {
      "name": "python"
    }
  },
  "cells": [
    {
      "cell_type": "code",
      "execution_count": 1,
      "metadata": {
        "id": "9tWWb19Rj2O0"
      },
      "outputs": [],
      "source": [
        "import pandas as pd\n",
        "from sklearn.model_selection import train_test_split\n",
        "from tensorflow.keras.models import Sequential\n",
        "from tensorflow.keras.layers import Dense, Activation\n",
        "from sklearn.preprocessing import LabelEncoder"
      ]
    },
    {
      "cell_type": "code",
      "source": [
        "print(data.columns)\n",
        "data = pd.read_csv('Churn_Modelling.csv')\n"
      ],
      "metadata": {
        "colab": {
          "base_uri": "https://localhost:8080/"
        },
        "id": "tEUxDRdIkBfS",
        "outputId": "edd2b7d4-d4ac-442a-f783-a207abc3fdd5"
      },
      "execution_count": 7,
      "outputs": [
        {
          "output_type": "stream",
          "name": "stdout",
          "text": [
            "Index(['RowNumber', 'CustomerId', 'Surname', 'CreditScore', 'Geography',\n",
            "       'Gender', 'Age', 'Tenure', 'Balance', 'NumOfProducts', 'HasCrCard',\n",
            "       'IsActiveMember', 'EstimatedSalary', 'Exited'],\n",
            "      dtype='object')\n"
          ]
        }
      ]
    },
    {
      "cell_type": "code",
      "source": [
        "print(data.head())"
      ],
      "metadata": {
        "colab": {
          "base_uri": "https://localhost:8080/"
        },
        "id": "slDG0noxkjAZ",
        "outputId": "0d468a70-ed32-416f-890e-f53065913c26"
      },
      "execution_count": 6,
      "outputs": [
        {
          "output_type": "stream",
          "name": "stdout",
          "text": [
            "   RowNumber  CustomerId   Surname  CreditScore  Geography  Gender  Age  \\\n",
            "0          1    15634602  Hargrave          619          0       0   42   \n",
            "1          2    15647311      Hill          608          2       0   41   \n",
            "2          3    15619304      Onio          502          0       0   42   \n",
            "3          4    15701354      Boni          699          0       0   39   \n",
            "4          5    15737888  Mitchell          850          2       0   43   \n",
            "\n",
            "   Tenure    Balance  NumOfProducts  HasCrCard  IsActiveMember  \\\n",
            "0       2       0.00              1          1               1   \n",
            "1       1   83807.86              1          0               1   \n",
            "2       8  159660.80              3          1               0   \n",
            "3       1       0.00              2          0               0   \n",
            "4       2  125510.82              1          1               1   \n",
            "\n",
            "   EstimatedSalary  Exited  \n",
            "0        101348.88       1  \n",
            "1        112542.58       0  \n",
            "2        113931.57       1  \n",
            "3         93826.63       0  \n",
            "4         79084.10       0  \n"
          ]
        }
      ]
    },
    {
      "cell_type": "code",
      "source": [
        "categorical_features = ['Geography']\n",
        "le = LabelEncoder()\n",
        "for feature in categorical_features:\n",
        "    data[feature] = le.fit_transform(data[feature])  # Encode categorical features # Indent this line to include it in the for loop\n",
        "\n",
        "X = data[['CustomerId', 'CreditScore', 'Age', 'Tenure', 'Balance', 'NumOfProducts', 'EstimatedSalary']]  # Feature names\n",
        "y = data['Exited']  # Target variable name (assuming exit is binary)"
      ],
      "metadata": {
        "id": "QbbvTPQikLCb"
      },
      "execution_count": 10,
      "outputs": []
    },
    {
      "cell_type": "code",
      "source": [
        "X_train, X_test, y_train, y_test = train_test_split(X, y, test_size=0.2, random_state=42)"
      ],
      "metadata": {
        "id": "PQIb2TIaksBM"
      },
      "execution_count": 11,
      "outputs": []
    },
    {
      "cell_type": "code",
      "source": [
        "model = Sequential()\n",
        "model.add(Dense(128, activation='relu', input_shape=(X_train.shape[1],)))  # Hidden layer with 128 neurons and ReLU activation\n",
        "model.add(Dense(64, activation='relu'))  # Another hidden layer with 64 neurons and ReLU activation\n",
        "model.add(Dense(1, activation='sigmoid'))  # Output layer with 1 neuron and sigmoid activation (for binary classification)"
      ],
      "metadata": {
        "id": "wgoNTUlClBPq"
      },
      "execution_count": 12,
      "outputs": []
    },
    {
      "cell_type": "code",
      "source": [
        "model.compile(loss='binary_crossentropy', optimizer='adam', metrics=['accuracy'])\n"
      ],
      "metadata": {
        "id": "87atkC3klDqh"
      },
      "execution_count": 13,
      "outputs": []
    },
    {
      "cell_type": "code",
      "source": [
        "model.fit(X_train, y_train, epochs=100, batch_size=32)"
      ],
      "metadata": {
        "colab": {
          "base_uri": "https://localhost:8080/"
        },
        "id": "_-ZMbWSPlHOh",
        "outputId": "810d0784-0d28-45ce-f9f6-72aee1dd8bd1"
      },
      "execution_count": 14,
      "outputs": [
        {
          "output_type": "stream",
          "name": "stdout",
          "text": [
            "Epoch 1/100\n",
            "250/250 [==============================] - 2s 2ms/step - loss: 39481.8672 - accuracy: 0.6714\n",
            "Epoch 2/100\n",
            "250/250 [==============================] - 0s 2ms/step - loss: 17081.7031 - accuracy: 0.6793\n",
            "Epoch 3/100\n",
            "250/250 [==============================] - 0s 2ms/step - loss: 15424.2598 - accuracy: 0.6799\n",
            "Epoch 4/100\n",
            "250/250 [==============================] - 0s 2ms/step - loss: 16596.5078 - accuracy: 0.6765\n",
            "Epoch 5/100\n",
            "250/250 [==============================] - 1s 3ms/step - loss: 13536.7568 - accuracy: 0.6735\n",
            "Epoch 6/100\n",
            "250/250 [==============================] - 1s 3ms/step - loss: 10672.0605 - accuracy: 0.6746\n",
            "Epoch 7/100\n",
            "250/250 [==============================] - 1s 3ms/step - loss: 11185.8828 - accuracy: 0.6712\n",
            "Epoch 8/100\n",
            "250/250 [==============================] - 1s 3ms/step - loss: 13906.2256 - accuracy: 0.6760\n",
            "Epoch 9/100\n",
            "250/250 [==============================] - 1s 3ms/step - loss: 11657.2363 - accuracy: 0.6862\n",
            "Epoch 10/100\n",
            "250/250 [==============================] - 1s 2ms/step - loss: 9596.3438 - accuracy: 0.6775\n",
            "Epoch 11/100\n",
            "250/250 [==============================] - 0s 2ms/step - loss: 8677.4561 - accuracy: 0.6810\n",
            "Epoch 12/100\n",
            "250/250 [==============================] - 0s 2ms/step - loss: 7308.3418 - accuracy: 0.6769\n",
            "Epoch 13/100\n",
            "250/250 [==============================] - 0s 2ms/step - loss: 9058.2773 - accuracy: 0.6783\n",
            "Epoch 14/100\n",
            "250/250 [==============================] - 0s 2ms/step - loss: 7216.1504 - accuracy: 0.6701\n",
            "Epoch 15/100\n",
            "250/250 [==============================] - 0s 2ms/step - loss: 10466.7793 - accuracy: 0.6850\n",
            "Epoch 16/100\n",
            "250/250 [==============================] - 0s 2ms/step - loss: 9098.9844 - accuracy: 0.6755\n",
            "Epoch 17/100\n",
            "250/250 [==============================] - 0s 2ms/step - loss: 6829.2432 - accuracy: 0.6802\n",
            "Epoch 18/100\n",
            "250/250 [==============================] - 0s 2ms/step - loss: 6763.2007 - accuracy: 0.6844\n",
            "Epoch 19/100\n",
            "250/250 [==============================] - 0s 2ms/step - loss: 4762.1079 - accuracy: 0.6816\n",
            "Epoch 20/100\n",
            "250/250 [==============================] - 0s 2ms/step - loss: 5808.6587 - accuracy: 0.6784\n",
            "Epoch 21/100\n",
            "250/250 [==============================] - 0s 2ms/step - loss: 5778.2368 - accuracy: 0.6776\n",
            "Epoch 22/100\n",
            "250/250 [==============================] - 0s 2ms/step - loss: 5775.2246 - accuracy: 0.6729\n",
            "Epoch 23/100\n",
            "250/250 [==============================] - 0s 2ms/step - loss: 4006.0120 - accuracy: 0.6771\n",
            "Epoch 24/100\n",
            "250/250 [==============================] - 0s 2ms/step - loss: 5743.0483 - accuracy: 0.6787\n",
            "Epoch 25/100\n",
            "250/250 [==============================] - 0s 2ms/step - loss: 4664.2847 - accuracy: 0.6829\n",
            "Epoch 26/100\n",
            "250/250 [==============================] - 0s 2ms/step - loss: 4545.7529 - accuracy: 0.6800\n",
            "Epoch 27/100\n",
            "250/250 [==============================] - 0s 2ms/step - loss: 5038.4033 - accuracy: 0.6694\n",
            "Epoch 28/100\n",
            "250/250 [==============================] - 0s 2ms/step - loss: 2696.2710 - accuracy: 0.6787\n",
            "Epoch 29/100\n",
            "250/250 [==============================] - 0s 2ms/step - loss: 3141.5649 - accuracy: 0.6771\n",
            "Epoch 30/100\n",
            "250/250 [==============================] - 0s 2ms/step - loss: 4023.7661 - accuracy: 0.6721\n",
            "Epoch 31/100\n",
            "250/250 [==============================] - 0s 2ms/step - loss: 2286.9937 - accuracy: 0.6760\n",
            "Epoch 32/100\n",
            "250/250 [==============================] - 0s 2ms/step - loss: 2719.5837 - accuracy: 0.6755\n",
            "Epoch 33/100\n",
            "250/250 [==============================] - 0s 2ms/step - loss: 2976.9744 - accuracy: 0.6776\n",
            "Epoch 34/100\n",
            "250/250 [==============================] - 1s 3ms/step - loss: 3132.3196 - accuracy: 0.6800\n",
            "Epoch 35/100\n",
            "250/250 [==============================] - 1s 2ms/step - loss: 2145.7957 - accuracy: 0.6829\n",
            "Epoch 36/100\n",
            "250/250 [==============================] - 1s 3ms/step - loss: 2978.6748 - accuracy: 0.6734\n",
            "Epoch 37/100\n",
            "250/250 [==============================] - 1s 3ms/step - loss: 2093.5796 - accuracy: 0.6910\n",
            "Epoch 38/100\n",
            "250/250 [==============================] - 1s 3ms/step - loss: 2448.3909 - accuracy: 0.6814\n",
            "Epoch 39/100\n",
            "250/250 [==============================] - 0s 2ms/step - loss: 2238.2021 - accuracy: 0.6744\n",
            "Epoch 40/100\n",
            "250/250 [==============================] - 0s 2ms/step - loss: 2021.0792 - accuracy: 0.6854\n",
            "Epoch 41/100\n",
            "250/250 [==============================] - 0s 2ms/step - loss: 1821.5721 - accuracy: 0.6829\n",
            "Epoch 42/100\n",
            "250/250 [==============================] - 0s 2ms/step - loss: 2413.3293 - accuracy: 0.6721\n",
            "Epoch 43/100\n",
            "250/250 [==============================] - 0s 2ms/step - loss: 1999.5288 - accuracy: 0.6840\n",
            "Epoch 44/100\n",
            "250/250 [==============================] - 1s 3ms/step - loss: 1980.4081 - accuracy: 0.6765\n",
            "Epoch 45/100\n",
            "250/250 [==============================] - 0s 2ms/step - loss: 1862.6393 - accuracy: 0.6817\n",
            "Epoch 46/100\n",
            "250/250 [==============================] - 0s 2ms/step - loss: 1499.9999 - accuracy: 0.6756\n",
            "Epoch 47/100\n",
            "250/250 [==============================] - 0s 2ms/step - loss: 1227.8694 - accuracy: 0.6790\n",
            "Epoch 48/100\n",
            "250/250 [==============================] - 0s 2ms/step - loss: 1526.1844 - accuracy: 0.6727\n",
            "Epoch 49/100\n",
            "250/250 [==============================] - 0s 2ms/step - loss: 1010.4661 - accuracy: 0.6771\n",
            "Epoch 50/100\n",
            "250/250 [==============================] - 0s 2ms/step - loss: 1024.4755 - accuracy: 0.6781\n",
            "Epoch 51/100\n",
            "250/250 [==============================] - 0s 2ms/step - loss: 1104.3503 - accuracy: 0.6749\n",
            "Epoch 52/100\n",
            "250/250 [==============================] - 0s 2ms/step - loss: 1222.3784 - accuracy: 0.6773\n",
            "Epoch 53/100\n",
            "250/250 [==============================] - 0s 2ms/step - loss: 714.0779 - accuracy: 0.6760\n",
            "Epoch 54/100\n",
            "250/250 [==============================] - 0s 2ms/step - loss: 796.0416 - accuracy: 0.6849\n",
            "Epoch 55/100\n",
            "250/250 [==============================] - 0s 2ms/step - loss: 459.6151 - accuracy: 0.6779\n",
            "Epoch 56/100\n",
            "250/250 [==============================] - 0s 2ms/step - loss: 481.9379 - accuracy: 0.6781\n",
            "Epoch 57/100\n",
            "250/250 [==============================] - 0s 2ms/step - loss: 403.8363 - accuracy: 0.6759\n",
            "Epoch 58/100\n",
            "250/250 [==============================] - 0s 2ms/step - loss: 398.1459 - accuracy: 0.6844\n",
            "Epoch 59/100\n",
            "250/250 [==============================] - 0s 2ms/step - loss: 357.4764 - accuracy: 0.6735\n",
            "Epoch 60/100\n",
            "250/250 [==============================] - 0s 2ms/step - loss: 274.9378 - accuracy: 0.6812\n",
            "Epoch 61/100\n",
            "250/250 [==============================] - 1s 2ms/step - loss: 257.1581 - accuracy: 0.6799\n",
            "Epoch 62/100\n",
            "250/250 [==============================] - 1s 3ms/step - loss: 236.4149 - accuracy: 0.6750\n",
            "Epoch 63/100\n",
            "250/250 [==============================] - 1s 2ms/step - loss: 198.9309 - accuracy: 0.6651\n",
            "Epoch 64/100\n",
            "250/250 [==============================] - 1s 3ms/step - loss: 227.8358 - accuracy: 0.6826\n",
            "Epoch 65/100\n",
            "250/250 [==============================] - 1s 3ms/step - loss: 65.4267 - accuracy: 0.6804\n",
            "Epoch 66/100\n",
            "250/250 [==============================] - 1s 2ms/step - loss: 74.4064 - accuracy: 0.6725\n",
            "Epoch 67/100\n",
            "250/250 [==============================] - 1s 2ms/step - loss: 50.2171 - accuracy: 0.6760\n",
            "Epoch 68/100\n",
            "250/250 [==============================] - 0s 2ms/step - loss: 35.0858 - accuracy: 0.6829\n",
            "Epoch 69/100\n",
            "250/250 [==============================] - 0s 2ms/step - loss: 25.3005 - accuracy: 0.6754\n",
            "Epoch 70/100\n",
            "250/250 [==============================] - 0s 2ms/step - loss: 7.7081 - accuracy: 0.7368\n",
            "Epoch 71/100\n",
            "250/250 [==============================] - 0s 2ms/step - loss: 0.6467 - accuracy: 0.7945\n",
            "Epoch 72/100\n",
            "250/250 [==============================] - 0s 2ms/step - loss: 0.6079 - accuracy: 0.7945\n",
            "Epoch 73/100\n",
            "250/250 [==============================] - 0s 2ms/step - loss: 0.5791 - accuracy: 0.7945\n",
            "Epoch 74/100\n",
            "250/250 [==============================] - 0s 2ms/step - loss: 0.5578 - accuracy: 0.7945\n",
            "Epoch 75/100\n",
            "250/250 [==============================] - 0s 2ms/step - loss: 0.5421 - accuracy: 0.7945\n",
            "Epoch 76/100\n",
            "250/250 [==============================] - 0s 2ms/step - loss: 0.5309 - accuracy: 0.7945\n",
            "Epoch 77/100\n",
            "250/250 [==============================] - 0s 2ms/step - loss: 0.5230 - accuracy: 0.7945\n",
            "Epoch 78/100\n",
            "250/250 [==============================] - 0s 2ms/step - loss: 0.5175 - accuracy: 0.7945\n",
            "Epoch 79/100\n",
            "250/250 [==============================] - 0s 2ms/step - loss: 0.5138 - accuracy: 0.7945\n",
            "Epoch 80/100\n",
            "250/250 [==============================] - 0s 2ms/step - loss: 0.5114 - accuracy: 0.7945\n",
            "Epoch 81/100\n",
            "250/250 [==============================] - 0s 2ms/step - loss: 0.5099 - accuracy: 0.7945\n",
            "Epoch 82/100\n",
            "250/250 [==============================] - 0s 2ms/step - loss: 0.5090 - accuracy: 0.7945\n",
            "Epoch 83/100\n",
            "250/250 [==============================] - 0s 2ms/step - loss: 0.5085 - accuracy: 0.7945\n",
            "Epoch 84/100\n",
            "250/250 [==============================] - 0s 2ms/step - loss: 0.5082 - accuracy: 0.7945\n",
            "Epoch 85/100\n",
            "250/250 [==============================] - 0s 2ms/step - loss: 0.5081 - accuracy: 0.7945\n",
            "Epoch 86/100\n",
            "250/250 [==============================] - 0s 2ms/step - loss: 0.5080 - accuracy: 0.7945\n",
            "Epoch 87/100\n",
            "250/250 [==============================] - 0s 2ms/step - loss: 0.5080 - accuracy: 0.7945\n",
            "Epoch 88/100\n",
            "250/250 [==============================] - 0s 2ms/step - loss: 0.5080 - accuracy: 0.7945\n",
            "Epoch 89/100\n",
            "250/250 [==============================] - 0s 2ms/step - loss: 0.5080 - accuracy: 0.7945\n",
            "Epoch 90/100\n",
            "250/250 [==============================] - 0s 2ms/step - loss: 0.5080 - accuracy: 0.7945\n",
            "Epoch 91/100\n",
            "250/250 [==============================] - 1s 3ms/step - loss: 0.5080 - accuracy: 0.7945\n",
            "Epoch 92/100\n",
            "250/250 [==============================] - 1s 2ms/step - loss: 0.5080 - accuracy: 0.7945\n",
            "Epoch 93/100\n",
            "250/250 [==============================] - 1s 3ms/step - loss: 0.5080 - accuracy: 0.7945\n",
            "Epoch 94/100\n",
            "250/250 [==============================] - 1s 3ms/step - loss: 0.5080 - accuracy: 0.7945\n",
            "Epoch 95/100\n",
            "250/250 [==============================] - 1s 3ms/step - loss: 0.5080 - accuracy: 0.7945\n",
            "Epoch 96/100\n",
            "250/250 [==============================] - 0s 2ms/step - loss: 0.5080 - accuracy: 0.7945\n",
            "Epoch 97/100\n",
            "250/250 [==============================] - 0s 2ms/step - loss: 0.5080 - accuracy: 0.7945\n",
            "Epoch 98/100\n",
            "250/250 [==============================] - 0s 2ms/step - loss: 0.5080 - accuracy: 0.7945\n",
            "Epoch 99/100\n",
            "250/250 [==============================] - 0s 2ms/step - loss: 0.5080 - accuracy: 0.7945\n",
            "Epoch 100/100\n",
            "250/250 [==============================] - 0s 2ms/step - loss: 0.5080 - accuracy: 0.7945\n"
          ]
        },
        {
          "output_type": "execute_result",
          "data": {
            "text/plain": [
              "<keras.src.callbacks.History at 0x78d7f85ce3e0>"
            ]
          },
          "metadata": {},
          "execution_count": 14
        }
      ]
    },
    {
      "cell_type": "code",
      "source": [
        "loss, accuracy = model.evaluate(X_test, y_test)\n",
        "print(\"Accuracy:\", accuracy)"
      ],
      "metadata": {
        "colab": {
          "base_uri": "https://localhost:8080/"
        },
        "id": "lxodM9nqlJPX",
        "outputId": "c8247f6f-abde-43c5-9c64-dcded1895c86"
      },
      "execution_count": 15,
      "outputs": [
        {
          "output_type": "stream",
          "name": "stdout",
          "text": [
            "63/63 [==============================] - 0s 1ms/step - loss: 0.5190 - accuracy: 0.8035\n",
            "Accuracy: 0.8034999966621399\n"
          ]
        }
      ]
    },
    {
      "cell_type": "code",
      "source": [
        "CustomerId_value = 12345\n",
        "CreditScore_value = 650\n",
        "Age_value = 35\n",
        "Tenure_value = 5\n",
        "Balance_value = 10000\n",
        "NumOfProducts_value = 2\n",
        "EstimatedSalry_value = 60000\n"
      ],
      "metadata": {
        "id": "LeEWWAb3lz0i"
      },
      "execution_count": 19,
      "outputs": []
    },
    {
      "cell_type": "code",
      "source": [
        "new_data = [[CustomerId_value, CreditScore_value, Age_value, Tenure_value,\n",
        "             Balance_value, NumOfProducts_value, EstimatedSalry_value]]\n",
        "new_predictions = model.predict(new_data)\n",
        "print(\"Prediction for new data:\", new_predictions[0][0])"
      ],
      "metadata": {
        "colab": {
          "base_uri": "https://localhost:8080/"
        },
        "id": "l-_9MJdJlaO-",
        "outputId": "8efaf3d0-fe4c-4430-8cc8-a190c3fc4af6"
      },
      "execution_count": 20,
      "outputs": [
        {
          "output_type": "stream",
          "name": "stdout",
          "text": [
            "1/1 [==============================] - 0s 103ms/step\n",
            "Prediction for new data: 0.0\n"
          ]
        }
      ]
    },
    {
      "cell_type": "code",
      "source": [],
      "metadata": {
        "id": "NSCtfrNlleyP"
      },
      "execution_count": null,
      "outputs": []
    }
  ]
}